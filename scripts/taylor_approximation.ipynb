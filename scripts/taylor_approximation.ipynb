{
 "cells": [
  {
   "cell_type": "code",
   "execution_count": 1,
   "metadata": {},
   "outputs": [],
   "source": [
    "import os\n",
    "\n",
    "import numpy as np\n",
    "import pandas as pd\n",
    "\n",
    "from tqdm import tqdm"
   ]
  },
  {
   "cell_type": "code",
   "execution_count": 2,
   "metadata": {},
   "outputs": [],
   "source": [
    "def sigmoid(x):\n",
    "    return 1 / (1 + np.exp(-x))"
   ]
  },
  {
   "cell_type": "code",
   "execution_count": 3,
   "metadata": {},
   "outputs": [],
   "source": [
    "def process_bound_path(boundary_path, attr_index, gan_type, condition):\n",
    "    bound_choices = {}\n",
    "    if gan_type == 'pggan' and not condition:\n",
    "        bound_choices[0] = 'pggan_celebahq_eyeglasses_boundary.npy',\n",
    "        bound_choices[1] = 'pggan_celebahq_gender_boundary.npy'\n",
    "        bound_choices[2] = 'pggan_celebahq_smile_boundary.npy'\n",
    "        bound_choices[3] = 'pggan_celebahq_age_boundary.npy'\n",
    "        bound_choices[5] = 'pggan_celebahq_bald.npy'\n",
    "        bound_choices[7] = 'pggan_celebahq_narrow_eyes.npy'\n",
    "        bound_choices[10] = 'pggan_celebahq_blonde_hair.npy'\n",
    "        bound_choices[13] = 'pggan_celebahq_pale_skin.npy'\n",
    "    elif gan_type == 'stylegan' and not condition:\n",
    "        bound_choices[0] = 'stylegan_celebahq_eyeglasses_boundary.npy'\n",
    "        bound_choices[1] = 'stylegan_celebahq_gender_boundary.npy'\n",
    "        bound_choices[2] = 'stylegan_celebahq_smile_boundary.npy'\n",
    "        bound_choices[3] = 'stylegan_celebahq_age_boundary.npy'\n",
    "        bound_choices[5] = 'stylegan_celebahq_bald.npy'\n",
    "        bound_choices[7] = 'stylegan_celebahq_narrow_eyes.npy'\n",
    "        bound_choices[10] = 'stylegan_celebahq_blonde_hair.npy'\n",
    "        bound_choices[13] = 'stylegan_celebahq_pale_skin.npy'\n",
    "    elif gan_type == 'pggan' and condition:\n",
    "        bound_choices = ['pggan_celebahq_eyeglasses_c_all_boundary.npy', 'pggan_celebahq_gender_c_all_boundary.npy',\n",
    "            'pggan_celebahq_smile_c_all_boundary.npy', 'pggan_celebahq_age_c_all_boundary.npy']\n",
    "    elif gan_type == 'stylegan' and condition:\n",
    "        bound_choices = ['stylegan_celebahq_eyeglasses_c_all_boundary.npy', 'stylegan_celebahq_gender_c_all_boundary.npy',\n",
    "            'stylegan_celebahq_smile_c_all_boundary.npy', 'stylegan_celebahq_age_c_all_boundary.npy']\n",
    "    else:\n",
    "        raise ValueError('process_bound_path: unknown gan type.')\n",
    "\n",
    "    print(boundary_path, bound_choices[attr_index], attr_index)\n",
    "    return os.path.join(boundary_path, bound_choices[attr_index])"
   ]
  },
  {
   "cell_type": "code",
   "execution_count": 4,
   "metadata": {},
   "outputs": [],
   "source": [
    "def add(out_dict, dist, error):\n",
    "    dist = np.linalg.norm(dist)\n",
    "    error = np.abs(error)\n",
    "    if dist < 1:\n",
    "        out_dict[1].append(error)\n",
    "    elif dist < 2:\n",
    "        out_dict[2].append(error)\n",
    "    elif dist < 3:\n",
    "        out_dict[3].append(error)\n",
    "    else:\n",
    "        out_dict[4].append(error)"
   ]
  },
  {
   "cell_type": "code",
   "execution_count": 5,
   "metadata": {},
   "outputs": [],
   "source": [
    "def summarize(out, out_dict, attr_index, method):\n",
    "    out = np.mean(out)\n",
    "    print(f'{method} {attr_index} mean over samples: {out}')\n",
    "    tmp = []\n",
    "    for i in range(1, 5):\n",
    "        print(f'{method} {attr_index} i-{i}: {np.mean(out_dict[i])}')\n",
    "        tmp.append(np.mean(out_dict[i]))\n",
    "    print(f'{method} {attr_index} mean over distance: {np.mean(tmp)}')\n",
    "    \n",
    "    out = [out]\n",
    "    out.extend(tmp)\n",
    "    out.append(np.mean(tmp))\n",
    "    return out"
   ]
  },
  {
   "cell_type": "code",
   "execution_count": 6,
   "metadata": {},
   "outputs": [],
   "source": [
    "def fetch_data(attr_index, method):\n",
    "    fname_pred = f'./predictions/{model}_{method}_{metric}_{attr_index}_{condition}_{steps}.npy'\n",
    "    fname_noise = f'./predictions/{model}_{method}_{metric}_{attr_index}_{condition}_{steps}_noise.npy'\n",
    "    fname_grad = f'./predictions/{model}_{method}_{metric}_{attr_index}_{condition}_{steps}_grad.npy'\n",
    "    \n",
    "    if method == 'interfacegan':\n",
    "        noise = np.load(fname_noise).reshape(2500, 40, 512)\n",
    "        grad = np.load(boundary_path).reshape(-1)\n",
    "        pred = np.load(fname_pred)\n",
    "    elif method == 'ours':\n",
    "        noise = np.load(fname_noise).reshape(2500, 40, 512)\n",
    "        grad = np.load(fname_grad)\n",
    "        pred = np.load(fname_pred)\n",
    "    else:\n",
    "        raise ValueError('typo?')\n",
    "        \n",
    "    return noise, grad, pred"
   ]
  },
  {
   "cell_type": "code",
   "execution_count": 7,
   "metadata": {},
   "outputs": [
    {
     "name": "stdout",
     "output_type": "stream",
     "text": [
      "../boundaries/ stylegan_celebahq_smile_boundary.npy 2\n"
     ]
    }
   ],
   "source": [
    "boundary_root = '../boundaries/'\n",
    "model = 'stylegan'\n",
    "method = 'interfacegan'\n",
    "metric = 'taylor_approximation'\n",
    "attr_index = 2\n",
    "condition = False\n",
    "steps = 40\n",
    "step_size = 8/steps\n",
    "boundary_path = process_bound_path(boundary_root, attr_index, model, condition)\n",
    "candidate_index = [0, 1, 2, 3, 7, 10, 13]"
   ]
  },
  {
   "cell_type": "code",
   "execution_count": 8,
   "metadata": {},
   "outputs": [
    {
     "name": "stdout",
     "output_type": "stream",
     "text": [
      "../boundaries/ stylegan_celebahq_eyeglasses_boundary.npy 0\n",
      "interfacegan 0 mean over samples: 1.9574591772606627\n",
      "interfacegan 0 i-1: 1.7597279619938166\n",
      "interfacegan 0 i-2: 2.778592498692452\n",
      "interfacegan 0 i-3: 3.644210036799539\n",
      "interfacegan 0 i-4: 1.4805114013414746\n",
      "interfacegan 0 mean over distance: 2.41576047470682\n",
      "ours 0 mean over samples: 1.885230008993858\n",
      "ours 0 i-1: 1.6746939155667906\n",
      "ours 0 i-2: 2.401363200232644\n",
      "ours 0 i-3: 2.4690528221413084\n",
      "ours 0 i-4: 1.557353069389228\n",
      "ours 0 mean over distance: 2.025615751832493\n",
      "../boundaries/ stylegan_celebahq_gender_boundary.npy 1\n",
      "interfacegan 1 mean over samples: 2.0530005688305084\n",
      "interfacegan 1 i-1: 5.701541791946746\n",
      "interfacegan 1 i-2: 4.045456476244708\n",
      "interfacegan 1 i-3: 1.7984887292492344\n",
      "interfacegan 1 i-4: 0.8913239808513329\n",
      "interfacegan 1 mean over distance: 3.1092027445730053\n",
      "ours 1 mean over samples: 2.2571902073971577\n",
      "ours 1 i-1: 4.469476344225325\n",
      "ours 1 i-2: 3.6941879891482072\n",
      "ours 1 i-3: 1.790237711204013\n",
      "ours 1 i-4: 0.8121396069375869\n",
      "ours 1 mean over distance: 2.691510412878783\n",
      "../boundaries/ stylegan_celebahq_smile_boundary.npy 2\n",
      "interfacegan 2 mean over samples: 1.2649948448110802\n",
      "interfacegan 2 i-1: 1.763723913593395\n",
      "interfacegan 2 i-2: 1.7826424710713296\n",
      "interfacegan 2 i-3: 1.6934123989861578\n",
      "interfacegan 2 i-4: 0.9607986852949706\n",
      "interfacegan 2 mean over distance: 1.5501443672364632\n",
      "ours 2 mean over samples: 1.62539768996798\n",
      "ours 2 i-1: 3.1905255761101676\n",
      "ours 2 i-2: 2.3911174700366833\n",
      "ours 2 i-3: 1.6109352170206142\n",
      "ours 2 i-4: 0.9212297016766653\n",
      "ours 2 mean over distance: 2.028451991211033\n",
      "../boundaries/ stylegan_celebahq_age_boundary.npy 3\n",
      "interfacegan 3 mean over samples: 1.7514477923309246\n",
      "interfacegan 3 i-1: 2.3502163201811404\n",
      "interfacegan 3 i-2: 2.4339302270078464\n",
      "interfacegan 3 i-3: 2.312300673108377\n",
      "interfacegan 3 i-4: 1.3544347828079546\n",
      "interfacegan 3 mean over distance: 2.1127205007763297\n",
      "ours 3 mean over samples: 1.1688710440531278\n",
      "ours 3 i-1: 0.9686702154566088\n",
      "ours 3 i-2: 1.1094055657466193\n",
      "ours 3 i-3: 1.8930730849119093\n",
      "ours 3 i-4: 1.284603528358181\n",
      "ours 3 mean over distance: 1.3139380986183296\n",
      "../boundaries/ stylegan_celebahq_narrow_eyes.npy 7\n",
      "interfacegan 7 mean over samples: 0.8691783547401428\n",
      "interfacegan 7 i-1: 0.8263297080993652\n",
      "interfacegan 7 i-2: 0.8495693802833557\n",
      "interfacegan 7 i-3: 0.8625861406326294\n",
      "interfacegan 7 i-4: 0.8853761553764343\n",
      "interfacegan 7 mean over distance: 0.8559653162956238\n",
      "ours 7 mean over samples: 1.501634186953246\n",
      "ours 7 i-1: 1.6215982169013001\n",
      "ours 7 i-2: 1.5033800770883554\n",
      "ours 7 i-3: 1.620147671389641\n",
      "ours 7 i-4: 1.4113521597719816\n",
      "ours 7 mean over distance: 1.5391195312878194\n",
      "../boundaries/ stylegan_celebahq_blonde_hair.npy 10\n",
      "interfacegan 10 mean over samples: 0.6627594828605652\n",
      "interfacegan 10 i-1: 0.6657510995864868\n",
      "interfacegan 10 i-2: 0.7122003436088562\n",
      "interfacegan 10 i-3: 0.7088304758071899\n",
      "interfacegan 10 i-4: 0.6420238018035889\n",
      "interfacegan 10 mean over distance: 0.6822014451026917\n",
      "ours 10 mean over samples: 1.1158602100611956\n",
      "ours 10 i-1: 1.9392375819547307\n",
      "ours 10 i-2: 1.9058466960302733\n",
      "ours 10 i-3: 1.1996218360713566\n",
      "ours 10 i-4: 0.634320472723072\n",
      "ours 10 mean over distance: 1.4197566466948581\n",
      "../boundaries/ stylegan_celebahq_pale_skin.npy 13\n",
      "interfacegan 13 mean over samples: 0.24736738204956055\n",
      "interfacegan 13 i-1: 0.24929611384868622\n",
      "interfacegan 13 i-2: 0.25215888023376465\n",
      "interfacegan 13 i-3: 0.2582721710205078\n",
      "interfacegan 13 i-4: 0.2436540722846985\n",
      "interfacegan 13 mean over distance: 0.2508453130722046\n",
      "ours 13 mean over samples: 0.3769979292966307\n",
      "ours 13 i-1: 0.6015893708752322\n",
      "ours 13 i-2: 0.5815292074599748\n",
      "ours 13 i-3: 0.4222084666867218\n",
      "ours 13 i-4: 0.22689750434198377\n",
      "ours 13 mean over distance: 0.4580561373409782\n"
     ]
    }
   ],
   "source": [
    "pd_bs, pd_ours = [], []\n",
    "for i in candidate_index:\n",
    "    attr_index = i\n",
    "    boundary_path = process_bound_path(boundary_root, attr_index, model, condition)\n",
    "    \n",
    "    out = []\n",
    "    out_dict = {1:[], 2:[], 3:[], 4:[]}\n",
    "    method = 'interfacegan'\n",
    "    bs_noise, bs_grad, bs_pred = fetch_data(attr_index, method)\n",
    "    for i_t in range(2500):\n",
    "        for i_s in range(39):\n",
    "            grad = bs_grad\n",
    "            if bs_pred[i_t, 0, attr_index] >= 0.5:\n",
    "                grad *= -1\n",
    "            if attr_index == 3:\n",
    "                grad *= -1\n",
    "\n",
    "            dist = bs_noise[i_t, i_s+1] - bs_noise[i_t, i_s]\n",
    "            approx = bs_pred[i_t, i_s, attr_index] + np.dot(dist, step_size * grad)\n",
    "            error = bs_pred[i_t, i_s+1, attr_index] - approx\n",
    "            out.append(np.abs(error))\n",
    "            add(out_dict, bs_noise[i_t, i_s] - bs_noise[i_t, 0], error)\n",
    "    pd_bs.append(summarize(out, out_dict, attr_index, method))\n",
    "    \n",
    "    out = []\n",
    "    out_dict = {1:[], 2:[], 3:[], 4:[]}\n",
    "    method = 'ours'\n",
    "    ours_noise, ours_grad, ours_pred = fetch_data(attr_index, method)\n",
    "    for i_t in range(2500):\n",
    "        for i_s in range(39):\n",
    "            dist = ours_noise[i_t, i_s+1] - ours_noise[i_t, i_s]\n",
    "            approx = ours_pred[i_t, i_s, attr_index] + np.dot(dist, step_size * ours_grad[i_t, i_s])\n",
    "            error = ours_pred[i_t, i_s+1, attr_index] - approx\n",
    "            out.append(np.abs(error))\n",
    "            add(out_dict, ours_noise[i_t, i_s] - ours_noise[i_t, 0], error)\n",
    "    pd_ours.append(summarize(out, out_dict, attr_index, method))"
   ]
  },
  {
   "cell_type": "code",
   "execution_count": 9,
   "metadata": {},
   "outputs": [
    {
     "name": "stdout",
     "output_type": "stream",
     "text": [
      "   mean_sample    mean_1    mean_2    mean_3    mean_4  mean_dist\n",
      "0     1.957459  1.759728  2.778592  3.644210  1.480511   2.415760\n",
      "1     2.053001  5.701542  4.045456  1.798489  0.891324   3.109203\n",
      "2     1.264995  1.763724  1.782642  1.693412  0.960799   1.550144\n",
      "3     1.751448  2.350216  2.433930  2.312301  1.354435   2.112721\n",
      "4     0.869178  0.826330  0.849569  0.862586  0.885376   0.855965\n",
      "5     0.662759  0.665751  0.712200  0.708830  0.642024   0.682201\n",
      "6     0.247367  0.249296  0.252159  0.258272  0.243654   0.250845\n",
      "   mean_sample    mean_1    mean_2    mean_3    mean_4  mean_dist\n",
      "0     1.885230  1.674694  2.401363  2.469053  1.557353   2.025616\n",
      "1     2.257190  4.469476  3.694188  1.790238  0.812140   2.691510\n",
      "2     1.625398  3.190526  2.391117  1.610935  0.921230   2.028452\n",
      "3     1.168871  0.968670  1.109406  1.893073  1.284604   1.313938\n",
      "4     1.501634  1.621598  1.503380  1.620148  1.411352   1.539120\n",
      "5     1.115860  1.939238  1.905847  1.199622  0.634320   1.419757\n",
      "6     0.376998  0.601589  0.581529  0.422208  0.226898   0.458056\n"
     ]
    }
   ],
   "source": [
    "pd_bs = pd.DataFrame(data=pd_bs,    # values\n",
    "              index=np.arange(len(candidate_index)),    # 1st column as index\n",
    "              columns=['mean_sample', 'mean_1', 'mean_2', 'mean_3', 'mean_4', 'mean_dist'])\n",
    "print(pd_bs)\n",
    "pd_bs.to_csv('bs.csv')\n",
    "pd_ours = pd.DataFrame(data=pd_ours,    # values\n",
    "              index=np.arange(len(candidate_index)),    # 1st column as index\n",
    "              columns=['mean_sample', 'mean_1', 'mean_2', 'mean_3', 'mean_4', 'mean_dist'])\n",
    "print(pd_ours)\n",
    "pd_ours.to_csv('ours.csv')"
   ]
  },
  {
   "cell_type": "code",
   "execution_count": 231,
   "metadata": {},
   "outputs": [
    {
     "name": "stdout",
     "output_type": "stream",
     "text": [
      "(2500, 40, 512) (512,) (2500, 40, 16)\n"
     ]
    }
   ],
   "source": [
    "bs_noise = np.load(fname_noise).reshape(2500, 40, 512)\n",
    "bs_bound = np.load(boundary_path).reshape(-1)\n",
    "bs_pred = np.load(fname_pred)\n",
    "print(bs_noise.shape, bs_bound.shape, bs_pred.shape)"
   ]
  },
  {
   "cell_type": "code",
   "execution_count": 233,
   "metadata": {},
   "outputs": [],
   "source": [
    "out = []\n",
    "out_dict = {1:[], 2:[], 3:[], 4:[]}\n",
    "for i_t in range(2500):\n",
    "    for i_s in range(39):\n",
    "        # f(x) = f(a) + f'(x-a)(x-a)\n",
    "        # error = real_logit - init_logit + step_size * grad\n",
    "        grad = bs_bound\n",
    "        if bs_pred[i_t, 0, attr_index] >= 0.5:\n",
    "            grad *= -1\n",
    "        if attr_index == 3:\n",
    "            grad *= -1\n",
    "            \n",
    "        dist = bs_noise[i_t, i_s+1] - bs_noise[i_t, i_s]\n",
    "        approx = bs_pred[i_t, i_s, attr_index] + np.dot(dist, step_size * grad)\n",
    "        error = bs_pred[i_t, i_s+1, attr_index] - approx\n",
    "        out.append(np.abs(error))\n",
    "        add(out_dict, bs_noise[i_t, i_s] - bs_noise[i_t, 0], error)\n",
    "        #print(bs_pred[i_t, i_s+1, attr_index], approx, error)\n",
    "        #break\n",
    "    #break"
   ]
  },
  {
   "cell_type": "code",
   "execution_count": 234,
   "metadata": {},
   "outputs": [
    {
     "name": "stdout",
     "output_type": "stream",
     "text": [
      "1.2649948448110802\n",
      "12820\n",
      "1.763723913593395\n",
      "12493\n",
      "1.7826424710713296\n",
      "12419\n",
      "1.6934123989861578\n",
      "59768\n",
      "0.9607986852949706\n",
      "1.5501443672364632\n"
     ]
    }
   ],
   "source": [
    "out = np.mean(out)\n",
    "print(out)\n",
    "tmp = []\n",
    "for i in range(1, 5):\n",
    "    print(len(out_dict[i]))\n",
    "    print(np.mean(out_dict[i]))\n",
    "    tmp.append(np.mean(out_dict[i]))\n",
    "print(np.mean(tmp))"
   ]
  },
  {
   "cell_type": "code",
   "execution_count": 235,
   "metadata": {},
   "outputs": [],
   "source": [
    "method = 'ours'"
   ]
  },
  {
   "cell_type": "code",
   "execution_count": 236,
   "metadata": {},
   "outputs": [],
   "source": [
    "fname_pred = f'./predictions/{model}_{method}_{metric}_{attr_index}_{condition}_{steps}.npy'\n",
    "fname_noise = f'./predictions/{model}_{method}_{metric}_{attr_index}_{condition}_{steps}_noise.npy'\n",
    "fname_grad = f'./predictions/{model}_{method}_{metric}_{attr_index}_{condition}_{steps}_grad.npy'"
   ]
  },
  {
   "cell_type": "code",
   "execution_count": 237,
   "metadata": {},
   "outputs": [
    {
     "name": "stdout",
     "output_type": "stream",
     "text": [
      "(2500, 40, 512) (2500, 40, 512) (2500, 40, 16)\n"
     ]
    }
   ],
   "source": [
    "ours_noise = np.load(fname_noise).reshape(2500, 40, 512)\n",
    "ours_grad = np.load(fname_grad)\n",
    "#ours_pred = sigmoid(np.load(fname_pred))\n",
    "ours_pred = np.load(fname_pred)\n",
    "print(ours_noise.shape, ours_grad.shape, ours_pred.shape)"
   ]
  },
  {
   "cell_type": "code",
   "execution_count": 238,
   "metadata": {},
   "outputs": [
    {
     "name": "stdout",
     "output_type": "stream",
     "text": [
      "(2500, 40, 512)\n",
      "(2500, 40)\n",
      "0.0\n",
      "3.4656289285723987\n",
      "(17337,)\n",
      "(82663,)\n",
      "(68904,)\n",
      "(55540,)\n"
     ]
    }
   ],
   "source": [
    "test = ours_noise - ours_noise[:, [0], :]\n",
    "print(test.shape)\n",
    "norm = np.linalg.norm(test, axis=-1, ord=2)\n",
    "print(norm.shape)\n",
    "print(np.min(norm))\n",
    "print(np.mean(norm))\n",
    "print(norm[norm<1].shape)\n",
    "print(norm[norm>1].shape)\n",
    "print(norm[norm>2].shape)\n",
    "print(norm[norm>3].shape)"
   ]
  },
  {
   "cell_type": "code",
   "execution_count": 239,
   "metadata": {},
   "outputs": [],
   "source": [
    "out = []\n",
    "out_dict = {1:[], 2:[], 3:[], 4:[]}\n",
    "for i_t in range(2500):\n",
    "    for i_s in range(39):\n",
    "        # f(x) = f(a) + f'(x-a)(x-a)\n",
    "        # error = real_logit - init_logit + step_size * grad\n",
    "        dist = ours_noise[i_t, i_s+1] - ours_noise[i_t, i_s]\n",
    "        approx = ours_pred[i_t, i_s, attr_index] + np.dot(dist, step_size * ours_grad[i_t, i_s])\n",
    "        error = ours_pred[i_t, i_s+1, attr_index] - approx\n",
    "        out.append(np.abs(error))\n",
    "        add(out_dict, ours_noise[i_t, i_s] - ours_noise[i_t, 0], error)\n",
    "        #print(ours_pred[i_t, i_s+1, attr_index], approx, error)\n",
    "        #break\n",
    "    #break"
   ]
  },
  {
   "cell_type": "code",
   "execution_count": 240,
   "metadata": {},
   "outputs": [
    {
     "name": "stdout",
     "output_type": "stream",
     "text": [
      "1.62539768996798\n",
      "17294\n",
      "3.1905255761101676\n",
      "13745\n",
      "2.3911174700366833\n",
      "13350\n",
      "1.6109352170206142\n",
      "53111\n",
      "0.9212297016766653\n",
      "2.028451991211033\n"
     ]
    }
   ],
   "source": [
    "out = np.mean(out)\n",
    "print(out)\n",
    "tmp = []\n",
    "for i in range(1, 5):\n",
    "    print(len(out_dict[i]))\n",
    "    print(np.mean(out_dict[i]))\n",
    "    tmp.append(np.mean(out_dict[i]))\n",
    "print(np.mean(tmp))"
   ]
  },
  {
   "cell_type": "code",
   "execution_count": null,
   "metadata": {},
   "outputs": [],
   "source": []
  }
 ],
 "metadata": {
  "kernelspec": {
   "display_name": "Python 3",
   "language": "python",
   "name": "python3"
  },
  "language_info": {
   "codemirror_mode": {
    "name": "ipython",
    "version": 3
   },
   "file_extension": ".py",
   "mimetype": "text/x-python",
   "name": "python",
   "nbconvert_exporter": "python",
   "pygments_lexer": "ipython3",
   "version": "3.6.10"
  }
 },
 "nbformat": 4,
 "nbformat_minor": 4
}
